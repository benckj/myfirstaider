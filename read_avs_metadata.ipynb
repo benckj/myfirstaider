{
 "cells": [
  {
   "cell_type": "code",
   "execution_count": 1,
   "id": "b1f5e1f1",
   "metadata": {},
   "outputs": [
    {
     "data": {
      "text/html": [
       "<div>\n",
       "<style scoped>\n",
       "    .dataframe tbody tr th:only-of-type {\n",
       "        vertical-align: middle;\n",
       "    }\n",
       "\n",
       "    .dataframe tbody tr th {\n",
       "        vertical-align: top;\n",
       "    }\n",
       "\n",
       "    .dataframe thead th {\n",
       "        text-align: right;\n",
       "    }\n",
       "</style>\n",
       "<table border=\"1\" class=\"dataframe\">\n",
       "  <thead>\n",
       "    <tr style=\"text-align: right;\">\n",
       "      <th></th>\n",
       "      <th>lastUpdated</th>\n",
       "      <th>value</th>\n",
       "    </tr>\n",
       "  </thead>\n",
       "  <tbody>\n",
       "    <tr>\n",
       "      <th>0</th>\n",
       "      <td>1728233296</td>\n",
       "      <td>{'address': '0x870679e138bcdf293b7ff14dd44b70f...</td>\n",
       "    </tr>\n",
       "    <tr>\n",
       "      <th>1</th>\n",
       "      <td>1728233296</td>\n",
       "      <td>{'address': '0x35f4f28a8d3ff20eed10e087e8f96ea...</td>\n",
       "    </tr>\n",
       "    <tr>\n",
       "      <th>2</th>\n",
       "      <td>1728233296</td>\n",
       "      <td>{'address': '0x23221c5bb90c7c57ecc1e75513e2e42...</td>\n",
       "    </tr>\n",
       "    <tr>\n",
       "      <th>3</th>\n",
       "      <td>1728233296</td>\n",
       "      <td>{'address': '0xd25c2c5802198cb8541987b73a8db4c...</td>\n",
       "    </tr>\n",
       "    <tr>\n",
       "      <th>4</th>\n",
       "      <td>1728233296</td>\n",
       "      <td>{'address': '0x1de75eaab2df55d467494a172652579...</td>\n",
       "    </tr>\n",
       "  </tbody>\n",
       "</table>\n",
       "</div>"
      ],
      "text/plain": [
       "   lastUpdated                                              value\n",
       "0   1728233296  {'address': '0x870679e138bcdf293b7ff14dd44b70f...\n",
       "1   1728233296  {'address': '0x35f4f28a8d3ff20eed10e087e8f96ea...\n",
       "2   1728233296  {'address': '0x23221c5bb90c7c57ecc1e75513e2e42...\n",
       "3   1728233296  {'address': '0xd25c2c5802198cb8541987b73a8db4c...\n",
       "4   1728233296  {'address': '0x1de75eaab2df55d467494a172652579..."
      ]
     },
     "execution_count": 1,
     "metadata": {},
     "output_type": "execute_result"
    }
   ],
   "source": [
    "import pandas as pd\n",
    "\n",
    "# Load the JSON file into a DataFrame\n",
    "df = pd.read_json('data/avs-metadata.json')\n",
    "\n",
    "# Display the DataFrame\n",
    "df.head()"
   ]
  },
  {
   "cell_type": "code",
   "execution_count": null,
   "id": "460e3587",
   "metadata": {},
   "outputs": [],
   "source": []
  }
 ],
 "metadata": {
  "kernelspec": {
   "display_name": "base",
   "language": "python",
   "name": "python3"
  },
  "language_info": {
   "codemirror_mode": {
    "name": "ipython",
    "version": 3
   },
   "file_extension": ".py",
   "mimetype": "text/x-python",
   "name": "python",
   "nbconvert_exporter": "python",
   "pygments_lexer": "ipython3",
   "version": "3.9.12"
  }
 },
 "nbformat": 4,
 "nbformat_minor": 5
}
