{
 "cells": [
  {
   "cell_type": "code",
   "execution_count": 3,
   "id": "b1f5e1f1",
   "metadata": {},
   "outputs": [
    {
     "data": {
      "text/html": [
       "<div>\n",
       "<style scoped>\n",
       "    .dataframe tbody tr th:only-of-type {\n",
       "        vertical-align: middle;\n",
       "    }\n",
       "\n",
       "    .dataframe tbody tr th {\n",
       "        vertical-align: top;\n",
       "    }\n",
       "\n",
       "    .dataframe thead th {\n",
       "        text-align: right;\n",
       "    }\n",
       "</style>\n",
       "<table border=\"1\" class=\"dataframe\">\n",
       "  <thead>\n",
       "    <tr style=\"text-align: right;\">\n",
       "      <th></th>\n",
       "      <th>lastUpdated</th>\n",
       "      <th>value</th>\n",
       "    </tr>\n",
       "  </thead>\n",
       "  <tbody>\n",
       "    <tr>\n",
       "      <th>0</th>\n",
       "      <td>1728233296</td>\n",
       "      <td>{'address': '0xdbed88d83176316fc46797b43adee92...</td>\n",
       "    </tr>\n",
       "    <tr>\n",
       "      <th>1</th>\n",
       "      <td>1728233296</td>\n",
       "      <td>{'address': '0xfb487f216ca24162119c0c6ae015d68...</td>\n",
       "    </tr>\n",
       "    <tr>\n",
       "      <th>2</th>\n",
       "      <td>1728233296</td>\n",
       "      <td>{'address': '0x4bd479a34450d0cb1f5ef16a877bee4...</td>\n",
       "    </tr>\n",
       "    <tr>\n",
       "      <th>3</th>\n",
       "      <td>1728233296</td>\n",
       "      <td>{'address': '0x7e3cede5c77cd4192d206c652db0023...</td>\n",
       "    </tr>\n",
       "    <tr>\n",
       "      <th>4</th>\n",
       "      <td>1728233296</td>\n",
       "      <td>{'address': '0xea50bb6735703422d2e053452f1f28b...</td>\n",
       "    </tr>\n",
       "  </tbody>\n",
       "</table>\n",
       "</div>"
      ],
      "text/plain": [
       "   lastUpdated                                              value\n",
       "0   1728233296  {'address': '0xdbed88d83176316fc46797b43adee92...\n",
       "1   1728233296  {'address': '0xfb487f216ca24162119c0c6ae015d68...\n",
       "2   1728233296  {'address': '0x4bd479a34450d0cb1f5ef16a877bee4...\n",
       "3   1728233296  {'address': '0x7e3cede5c77cd4192d206c652db0023...\n",
       "4   1728233296  {'address': '0xea50bb6735703422d2e053452f1f28b..."
      ]
     },
     "execution_count": 3,
     "metadata": {},
     "output_type": "execute_result"
    }
   ],
   "source": [
    "import pandas as pd\n",
    "\n",
    "# Load the JSON file into a DataFrame\n",
    "df = pd.read_json('data/avs-metadata.json')\n",
    "\n",
    "# Normalize the 'value' field to expand its content\n",
    "value_df = pd.json_normalize(df['value'])\n",
    "\n",
    "# Concatenate the original DataFrame with the expanded 'value' DataFrame\n",
    "df_expanded = pd.concat([df.drop(columns=['value']), value_df], axis=1)\n",
    "\n",
    "# Display the expanded DataFrame\n",
    "df_expanded.head()\n",
    "\n",
    "# Load the operators metadata JSON file into a DataFrame\n",
    "operators_df = pd.read_json('data/operators-metadata.json')\n",
    "\n",
    "# Normalize the 'value' field in the operators DataFrame\n",
    "operators_value_df = pd.json_normalize(operators_df['value'])\n",
    "\n",
    "# Concatenate the original operators DataFrame with the expanded 'value' DataFrame\n",
    "operators_df_expanded = pd.concat([operators_df.drop(columns=['value']), operators_value_df], axis=1)\n",
    "\n",
    "# Display the expanded operators DataFrame\n",
    "operators_df_expanded.head()"
   ]
  },
  {
   "cell_type": "code",
   "execution_count": null,
   "id": "460e3587",
   "metadata": {},
   "outputs": [],
   "source": []
  }
 ],
 "metadata": {
  "kernelspec": {
   "display_name": "base",
   "language": "python",
   "name": "python3"
  },
  "language_info": {
   "codemirror_mode": {
    "name": "ipython",
    "version": 3
   },
   "file_extension": ".py",
   "mimetype": "text/x-python",
   "name": "python",
   "nbconvert_exporter": "python",
   "pygments_lexer": "ipython3",
   "version": "3.9.12"
  }
 },
 "nbformat": 4,
 "nbformat_minor": 5
}
